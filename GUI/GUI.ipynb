{
 "cells": [
  {
   "cell_type": "code",
   "execution_count": null,
   "id": "f5a2ac3d",
   "metadata": {},
   "outputs": [],
   "source": [
    "%matplotlib notebook"
   ]
  },
  {
   "cell_type": "code",
   "execution_count": null,
   "id": "37dad8aa",
   "metadata": {},
   "outputs": [],
   "source": [
    "import functions\n",
    "import plot_handler"
   ]
  },
  {
   "cell_type": "code",
   "execution_count": null,
   "id": "3930ff30",
   "metadata": {},
   "outputs": [],
   "source": [
    "import pandas as pd\n",
    "from matplotlib import pyplot as plt\n",
    "from matplotlib.animation import FuncAnimation\n",
    "from mpl_toolkits.axes_grid1 import make_axes_locatable"
   ]
  },
  {
   "cell_type": "code",
   "execution_count": null,
   "id": "c573733e",
   "metadata": {},
   "outputs": [],
   "source": [
    "field_names = [\n",
    "                'time', # 0\n",
    "                'T_in', 'T_out',   #1,2\n",
    "                'P_in', 'P_out',  #3,5\n",
    "                'Hum_in', 'Hum_out',   #7,8\n",
    "                'T_Pump','T_SB',   #9,10\n",
    "                'Altitude',   #13\n",
    "                'O3_AE_a', 'O3_WE_a',   #14,15\n",
    "                'O3_AE_b', 'O3_WE_b',   #16,17\n",
    "                'CO2_V1_a', 'CO2_V2_a',   #18,19\n",
    "                'CO2_V1_b', 'CO2_V2_b',   #20,21\n",
    "                'valve_1', 'valve_2'   #31,32\n",
    "               ]\n",
    "cols_to_use = [0,1,2,3,5,7,8,9,10,13,14,15,16,17,18,19,20,21,31,32]\n",
    "\n",
    "PATH = './test.csv'"
   ]
  },
  {
   "cell_type": "markdown",
   "id": "746fb903",
   "metadata": {},
   "source": [
    "# Plots for Acending Phase"
   ]
  },
  {
   "cell_type": "code",
   "execution_count": null,
   "id": "f7f8a581",
   "metadata": {},
   "outputs": [],
   "source": [
    "df_asc = pd.read_csv(PATH,\n",
    "                        names = field_names,\n",
    "                        header = 0,\n",
    "                        usecols = cols_to_use)\n",
    "\n",
    "df_asc['time'] = df_asc.apply(lambda x : pd.Timestamp(x['time']//1000, unit = 's'), axis = 1)\n",
    "\n",
    "\n",
    "# print(df_asc)"
   ]
  },
  {
   "cell_type": "markdown",
   "id": "eba76f43",
   "metadata": {},
   "source": [
    "## Plots refreshed by clicking"
   ]
  },
  {
   "cell_type": "code",
   "execution_count": null,
   "id": "bb80b299",
   "metadata": {},
   "outputs": [],
   "source": [
    "humidity_plot = plot_handler.humidity_plot(df_asc.loc[:,['time','Hum_in','Hum_out']])"
   ]
  },
  {
   "cell_type": "code",
   "execution_count": null,
   "id": "206ab6f9",
   "metadata": {},
   "outputs": [],
   "source": [
    "temp_out_plot = plot_handler.temp_press_out_plot(df_asc.loc[:,['T_out','P_out','Altitude']])"
   ]
  },
  {
   "cell_type": "code",
   "execution_count": null,
   "id": "467c3c7d",
   "metadata": {},
   "outputs": [],
   "source": [
    "temp_in_plot = plot_handler.temp_press_in_plot(df_asc.loc[:,['T_in','P_in','time']])"
   ]
  },
  {
   "cell_type": "code",
   "execution_count": null,
   "id": "956c6308",
   "metadata": {},
   "outputs": [],
   "source": [
    "altitude_plot = plot_handler.altitude_time(df_asc.loc[:,['time','Altitude','T_out']])"
   ]
  },
  {
   "cell_type": "code",
   "execution_count": null,
   "id": "3a906880",
   "metadata": {},
   "outputs": [],
   "source": [
    "sb_and_pump_temp_plot = plot_handler.sb_pump_time(df_asc.loc[:,['time','T_Pump','T_SB']])"
   ]
  },
  {
   "cell_type": "code",
   "execution_count": null,
   "id": "b946ac27",
   "metadata": {},
   "outputs": [],
   "source": [
    "df_asc['O3_ppm_a'] = df_asc['O3_ppm_b'] = None\n",
    "df_asc['O3_ppm_a'] = df_asc.apply(functions.O3ConcentrationA, axis=1)\n",
    "df_asc['O3_ppm_b'] = df_asc.apply(functions.O3ConcentrationB, axis=1)\n",
    "\n",
    "O3_plot = plot_handler.O3_conc(df_asc.loc[:,['O3_ppm_a','O3_ppm_b','Altitude']])"
   ]
  },
  {
   "cell_type": "code",
   "execution_count": null,
   "id": "839e7b73",
   "metadata": {
    "scrolled": false
   },
   "outputs": [],
   "source": [
    "df_asc['CO2_C_a'] = df_asc['CO2_C_b'] = None\n",
    "df_asc['CO2_C_a'] = df_asc.apply(functions.CO2ConcentrationA, axis=1)\n",
    "df_asc['CO2_C_b'] = df_asc.apply(functions.CO2ConcentrationB, axis=1)\n",
    "\n",
    "# df_asc['CO2_C_a'], df_asc['CO2_C_b'] = functions.CO2Conc(df_asc)\n",
    "\n",
    "CO2_plot = plot_handler.CO2_conc(df_asc.loc[:,['CO2_C_a','CO2_C_b','Altitude']])"
   ]
  },
  {
   "cell_type": "code",
   "execution_count": null,
   "id": "5007fd97",
   "metadata": {},
   "outputs": [],
   "source": [
    "# df_asc['flags'] = df_asc.apply(lambda x: 1 if (x[\"valve_1\"]==1 and x[\"valve_2\"]==0) else 0, axis=1)\n",
    "# df_asc['Flowrate'] = functions.flowrate(df_asc.mask(lambda x: x['flags']!=1))\n",
    "\n",
    "\n",
    "# # TODO: Not ready yet CoM plot"
   ]
  },
  {
   "cell_type": "markdown",
   "id": "c4139a3a",
   "metadata": {},
   "source": [
    "## Plots automatically refreshed"
   ]
  },
  {
   "cell_type": "code",
   "execution_count": null,
   "id": "8c46931d",
   "metadata": {},
   "outputs": [],
   "source": [
    "def flowplot(i):\n",
    "    df_asc = pd.read_csv(PATH,\n",
    "                         names = [\n",
    "                             'time', # 0\n",
    "                             'T_in', 'T_out',   #1,2\n",
    "                             'P_in', 'P_out',  #3,5\n",
    "                             'valve_1', 'valve_2'   #31,32\n",
    "                         ],\n",
    "                         header=0,\n",
    "                         usecols=[0,1,2,3,5,31,32])\n",
    "    \n",
    "    df_asc['flags'] = df_asc.apply(lambda x: 1 if (x[\"valve_1\"]==1 and x[\"valve_2\"]==0) else 0, axis=1)\n",
    "    df_asc['Flowrate'] = functions.flowrate(df_asc.mask(lambda x: x['flags']!=1))\n",
    "    df_asc['time'] = df_asc.apply(lambda x : pd.Timestamp(x['time']//1000, unit = 's'), axis = 1)\n",
    "\n",
    "    # print(df)\n",
    "    flow_ax.cla()\n",
    "    \n",
    "    flow_ax.scatter(df_asc['time'], df_asc['Flowrate'], s=20, \n",
    "                marker= '.', label = \"ECO-WISE 2021\")\n",
    "    \n",
    "    flow_ax.set_title(\"Pump's flowrate\")\n",
    "    flow_ax.set_xlabel(\"Time (CEST)\")\n",
    "    flow_ax.set_ylabel(\"Flowrate (L/min)\")\n",
    "    flow_ax.legend()\n",
    "\n",
    "flow_rate_figure, flow_ax = plt.subplots()\n",
    "\n",
    "ani = FuncAnimation(flow_rate_figure, flowplot, interval=2000)"
   ]
  },
  {
   "cell_type": "code",
   "execution_count": null,
   "id": "6e8e19ee",
   "metadata": {},
   "outputs": [],
   "source": [
    "def O3VoltToTime(i):\n",
    "    df_asc = pd.read_csv(PATH,\n",
    "                        names = [\n",
    "                                    'time', # 0\n",
    "                                    'O3_WE_a', 'O3_AE_a',   #14,15\n",
    "                                    'O3_AE_b', 'O3_WE_b',   #16,17\n",
    "                                ],\n",
    "                         header=0,\n",
    "                         usecols=[0,14,15,16,17])\n",
    "    \n",
    "    df_asc['time'] = df_asc.apply(lambda x : pd.Timestamp(x['time']//1000, unit = 's'), axis = 1)\n",
    "    \n",
    "    O3_ax_a.cla()\n",
    "    \n",
    "    O3_ax_a.scatter(df_asc['time'], df_asc['O3_WE_a'], s=20, c='#0000FF',\n",
    "                marker= '.', label = \"WE\")\n",
    "    O3_ax_a.scatter(df_asc['time'], df_asc['O3_AE_a'], s=20,  c='#FF0000',\n",
    "                marker= '.', label = \"AE\")\n",
    "    \n",
    "    O3_ax_a.set_title(\"O3 Voltage in Sensor A\")\n",
    "    O3_ax_a.set_ylabel(\"Voltage (Volt)\")\n",
    "    O3_ax_a.legend()\n",
    "    \n",
    "    O3_ax_b.cla()\n",
    "    \n",
    "    O3_ax_b.scatter(df_asc['time'], df_asc['O3_WE_b'], s=20, c='#0000FF',\n",
    "                marker= '.', label = \"WE\")\n",
    "    O3_ax_b.scatter(df_asc['time'], df_asc['O3_AE_b'], s=20,  c='#FF0000',\n",
    "                marker= '.', label = \"AE\")\n",
    "    \n",
    "    O3_ax_b.set_title(\"O3 Voltage in Sensor B\")\n",
    "    O3_ax_b.set_xlabel(\"Time (CEST)\")\n",
    "    O3_ax_b.set_ylabel(\"Voltage (Volt)\")\n",
    "    O3_ax_b.legend()\n",
    "\n",
    "O3_figure, (O3_ax_a, O3_ax_b) =  plt.subplots(nrows=2, ncols=1, sharex=True)\n",
    "\n",
    "anim = FuncAnimation(O3_figure, O3VoltToTime, interval=2000)"
   ]
  },
  {
   "cell_type": "code",
   "execution_count": null,
   "id": "2e960d6e",
   "metadata": {},
   "outputs": [],
   "source": [
    "def CO2VoltToTime(i):\n",
    "    df_asc = pd.read_csv(PATH,\n",
    "                        names = [\n",
    "                                    'time', # 0\n",
    "                                    'CO2_V1_a', 'CO2_V2_a',   #18,19\n",
    "                                    'CO2_V1_b', 'CO2_V2_b',   #20,21\n",
    "                                ],\n",
    "                         header=0,\n",
    "                         usecols=[0,18,19,20,21])\n",
    "    \n",
    "    df_asc['time'] = df_asc.apply(lambda x : pd.Timestamp(x['time']//1000, unit = 's'), axis = 1)\n",
    "    \n",
    "    CO2_ax_a.cla()\n",
    "    \n",
    "    CO2_ax_a.scatter(df_asc.loc[:60,'time'], df_asc.loc[:60,'CO2_V1_a'], s=20, c='#0000FF',\n",
    "                marker= '.', label = \"Reference\")\n",
    "    CO2_ax_a.scatter(df_asc.loc[:60,'time'], df_asc.loc[:60,'CO2_V2_a'], s=20,  c='#FF0000',\n",
    "                marker= '.', label = \"Voltage\")\n",
    "    \n",
    "    CO2_ax_a.set_title(\"CO2 Voltage in Sensor A\")\n",
    "    CO2_ax_a.set_ylabel(\"Voltage (Volt)\")\n",
    "    CO2_ax_a.legend()\n",
    "    \n",
    "    CO2_ax_b.cla()\n",
    "    \n",
    "    CO2_ax_b.scatter(df_asc.loc[:60,'time'], df_asc.loc[:60,'CO2_V1_b'], s=20, c='#0000FF',\n",
    "                marker= '.', label = \"Reference\")\n",
    "    CO2_ax_b.scatter(df_asc.loc[:60,'time'], df_asc.loc[:60,'CO2_V2_b'], s=20,  c='#FF0000',\n",
    "                marker= '.', label = \"Voltage\")\n",
    "    \n",
    "    CO2_ax_b.set_title(\"CO2 Voltage in Sensor B\")\n",
    "    CO2_ax_b.set_xlabel(\"Time (CEST)\")\n",
    "    CO2_ax_b.set_ylabel(\"Voltage (Volt)\")\n",
    "    CO2_ax_b.legend()\n",
    "\n",
    "CO2_figure, (CO2_ax_a, CO2_ax_b) =  plt.subplots(nrows=2, ncols=1, sharex=True)\n",
    "\n",
    "anim = FuncAnimation(CO2_figure, CO2VoltToTime, interval=2000)"
   ]
  },
  {
   "cell_type": "markdown",
   "id": "7988dc91",
   "metadata": {},
   "source": [
    "# Plots for Floating Phase"
   ]
  },
  {
   "cell_type": "code",
   "execution_count": null,
   "id": "1bd9936c",
   "metadata": {},
   "outputs": [],
   "source": [
    "df_float = pd.read_csv(PATH,\n",
    "                        names = field_names,\n",
    "                        header = 0,\n",
    "                        usecols = cols_to_use)\n",
    "\n",
    "# print(df_float)"
   ]
  },
  {
   "cell_type": "markdown",
   "id": "dcbc3102",
   "metadata": {},
   "source": [
    "## Plots refreshed by clicking"
   ]
  },
  {
   "cell_type": "code",
   "execution_count": null,
   "id": "a9929071",
   "metadata": {},
   "outputs": [],
   "source": [
    "humidity_plot = plot_handler.humidity_plot(df_float.loc[:,['time','Hum_in','Hum_out']])"
   ]
  },
  {
   "cell_type": "code",
   "execution_count": null,
   "id": "98be2bac",
   "metadata": {},
   "outputs": [],
   "source": [
    "temp_out_plot = plot_handler.temp_press_out_plot(df_float.loc[:,['T_out','P_out','Altitude']])"
   ]
  },
  {
   "cell_type": "code",
   "execution_count": null,
   "id": "0f57a503",
   "metadata": {},
   "outputs": [],
   "source": [
    "temp_in_plot = plot_handler.temp_press_in_plot(df_float.loc[:,['T_in','P_in','time']])"
   ]
  },
  {
   "cell_type": "code",
   "execution_count": null,
   "id": "e8c9c358",
   "metadata": {},
   "outputs": [],
   "source": [
    "altitude_plot= plot_handler.altitude_time(df_float.loc[:,['time','Altitude','T_out']])"
   ]
  },
  {
   "cell_type": "code",
   "execution_count": null,
   "id": "068a2d86",
   "metadata": {},
   "outputs": [],
   "source": [
    "# df_float['O3_ppm_a'] = df_float['O3_ppm_b'] = None\n",
    "# df_float['O3_ppm_a'] = df_float.apply(functions.O3ConcentrationA, axis=1)\n",
    "# df_float['O3_ppm_b'] = df_float.apply(functions.O3ConcentrationB, axis=1)\n",
    "\n",
    "# O3_plot = plot_handler.O3_conc(df_float.loc[:,['O3_ppm_a','O3_ppm_b','Altitude']])"
   ]
  },
  {
   "cell_type": "code",
   "execution_count": null,
   "id": "64b1c4ac",
   "metadata": {},
   "outputs": [],
   "source": [
    "# df_float['CO2_C_a'] = df_float['CO2_C_b'] = None\n",
    "# df_float['CO2_C_a'] = df_float.apply(functions.CO2ConcentrationA, axis=1)\n",
    "# df_float['CO2_C_b'] = df_float.apply(functions.CO2ConcentrationB, axis=1)\n",
    "\n",
    "# CO2_plot = plot_handler.CO2_conc(df_float.loc[:,['CO2_C_a','CO2_C_b','Altitude']])"
   ]
  },
  {
   "cell_type": "markdown",
   "id": "303664db",
   "metadata": {},
   "source": [
    "## Plots automatically refreshed"
   ]
  },
  {
   "cell_type": "code",
   "execution_count": null,
   "id": "ef165ff0",
   "metadata": {},
   "outputs": [],
   "source": [
    "def O3VoltToTime(i):\n",
    "    df_float = pd.read_csv(PATH,\n",
    "                       names = [\n",
    "                                    'time', # 0\n",
    "                                    'O3_WE_a', 'O3_AE_a',   #14,15\n",
    "                                    'O3_AE_b', 'O3_WE_b',   #16,17\n",
    "                                ],\n",
    "                         header=0,\n",
    "                         usecols=[0,14,15,16,17])\n",
    "    O3_ax_a.cla()\n",
    "    \n",
    "    O3_ax_a.scatter(df_float['time'], df_float['O3_WE_a'], s=20, c='#0000FF',\n",
    "                marker= '.', label = \"WE\")\n",
    "    O3_ax_a.scatter(df_float['time'], df_float['O3_AE_a'], s=20,  c='#FF0000',\n",
    "                marker= '.', label = \"AE\")\n",
    "    \n",
    "    O3_ax_a.set_title(\"O3 Voltage in Sensor A\")\n",
    "    O3_ax_a.set_ylabel(\"Voltage (Volt)\")\n",
    "    O3_ax_a.legend()\n",
    "    \n",
    "    O3_ax_b.cla()\n",
    "    \n",
    "    O3_ax_b.scatter(df_float['time'], df_float['O3_WE_b'], s=20, c='#0000FF',\n",
    "                marker= '.', label = \"WE\")\n",
    "    O3_ax_b.scatter(df_float['time'], df_float['O3_AE_b'], s=20,  c='#FF0000',\n",
    "                marker= '.', label = \"AE\")\n",
    "    \n",
    "    O3_ax_b.set_title(\"O3 Voltage in Sensor B\")\n",
    "    O3_ax_b.set_xlabel(\"Time (sec)\")\n",
    "    O3_ax_b.set_ylabel(\"Voltage (Volt)\")\n",
    "    O3_ax_b.legend()\n",
    "\n",
    "O3_figure, (O3_ax_a, O3_ax_b) =  plt.subplots(nrows=2, ncols=1, sharex=True)\n",
    "\n",
    "anim = FuncAnimation(O3_figure, O3VoltToTime, interval=2000)"
   ]
  },
  {
   "cell_type": "code",
   "execution_count": null,
   "id": "db4e44c8",
   "metadata": {},
   "outputs": [],
   "source": [
    "def CO2VoltToTime(i):\n",
    "    df_float = pd.read_csv(PATH,\n",
    "                        names = [\n",
    "                                    'time', # 0\n",
    "                                    'CO2_V1_a', 'CO2_V2_a',   #18,19\n",
    "                                    'CO2_V1_b', 'CO2_V2_b',   #20,21\n",
    "                                ],\n",
    "                         header=0,\n",
    "                         usecols=[0,18,19,20,21])\n",
    "    \n",
    "    CO2_ax_a.cla()\n",
    "    \n",
    "    CO2_ax_a.scatter(df_float['time'], df_float['CO2_V1_a'], s=20, c='#0000FF',\n",
    "                marker= '.', label = \"Reference\")\n",
    "    CO2_ax_a.scatter(df_float['time'], df_float['CO2_V2_a'], s=20,  c='#FF0000',\n",
    "                marker= '.', label = \"Voltage\")\n",
    "    \n",
    "    CO2_ax_a.set_title(\"CO2 Voltage in Sensor A\")\n",
    "    CO2_ax_a.set_ylabel(\"Voltage (Volt)\")\n",
    "    CO2_ax_a.legend()\n",
    "    \n",
    "    CO2_ax_b.cla()\n",
    "    \n",
    "    CO2_ax_b.scatter(df_float['time'], df_float['CO2_V1_b'], s=20, c='#0000FF',\n",
    "                marker= '.', label = \"Reference\")\n",
    "    CO2_ax_b.scatter(df_float['time'], df_float['CO2_V2_b'], s=20,  c='#FF0000',\n",
    "                marker= '.', label = \"Voltage\")\n",
    "    \n",
    "    CO2_ax_b.set_title(\"CO2 Voltage in Sensor B\")\n",
    "    CO2_ax_b.set_xlabel(\"Time (sec)\")\n",
    "    CO2_ax_b.set_ylabel(\"Voltage (Volt)\")\n",
    "    CO2_ax_b.legend()\n",
    "\n",
    "CO2_figure, (CO2_ax_a, CO2_ax_b) =  plt.subplots(nrows=2, ncols=1, sharex=True)\n",
    "\n",
    "anim = FuncAnimation(CO2_figure, CO2VoltToTime, interval=2000)"
   ]
  }
 ],
 "metadata": {
  "kernelspec": {
   "display_name": "Python 3",
   "language": "python",
   "name": "python3"
  },
  "language_info": {
   "codemirror_mode": {
    "name": "ipython",
    "version": 3
   },
   "file_extension": ".py",
   "mimetype": "text/x-python",
   "name": "python",
   "nbconvert_exporter": "python",
   "pygments_lexer": "ipython3",
   "version": "3.8.8"
  }
 },
 "nbformat": 4,
 "nbformat_minor": 5
}
