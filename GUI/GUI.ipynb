{
 "cells": [
  {
   "cell_type": "code",
   "execution_count": 1,
   "id": "f5a2ac3d",
   "metadata": {},
   "outputs": [],
   "source": [
    "%matplotlib notebook"
   ]
  },
  {
   "cell_type": "code",
   "execution_count": 3,
   "id": "37dad8aa",
   "metadata": {},
   "outputs": [],
   "source": [
    "import functions\n",
    "import plot_handler"
   ]
  },
  {
   "cell_type": "code",
   "execution_count": null,
   "id": "3288434d",
   "metadata": {},
   "outputs": [],
   "source": [
    "import pandas as pd"
   ]
  },
  {
   "cell_type": "markdown",
   "id": "746fb903",
   "metadata": {},
   "source": [
    "# Plots for Acending Phase"
   ]
  },
  {
   "cell_type": "code",
   "execution_count": null,
   "id": "c322f865",
   "metadata": {},
   "outputs": [],
   "source": [
    "df_asc = pd.read_csv('./data_csv.csv',\n",
    "                        names=['time',\n",
    "                               'P_in', 'P_out',\n",
    "                               'T_in', 'T_out',\n",
    "                               'Hum_in', 'Hum_out',\n",
    "                               'CO2_V1', 'CO2_V2',\n",
    "                               'O3_WE', 'O3_AE',\n",
    "                               'Altitude'],\n",
    "                      header=0,\n",
    "                      usecols=[i for i in range(0,12)])\n",
    "\n",
    "print(df_asc)"
   ]
  },
  {
   "cell_type": "markdown",
   "id": "eba76f43",
   "metadata": {},
   "source": [
    "## Plots refreshed by clicking"
   ]
  },
  {
   "cell_type": "code",
   "execution_count": null,
   "id": "bb80b299",
   "metadata": {},
   "outputs": [],
   "source": []
  },
  {
   "cell_type": "code",
   "execution_count": null,
   "id": "105ba858",
   "metadata": {},
   "outputs": [],
   "source": []
  },
  {
   "cell_type": "code",
   "execution_count": null,
   "id": "62e8e10a",
   "metadata": {},
   "outputs": [],
   "source": []
  },
  {
   "cell_type": "code",
   "execution_count": null,
   "id": "3cf55fd7",
   "metadata": {},
   "outputs": [],
   "source": []
  },
  {
   "cell_type": "code",
   "execution_count": null,
   "id": "b7163c9d",
   "metadata": {},
   "outputs": [],
   "source": [
    "df_asc['O3_ppm'] = df_asc.apply(functions.O3Concentration, axis=1)\n"
   ]
  },
  {
   "cell_type": "code",
   "execution_count": null,
   "id": "6a00ff28",
   "metadata": {},
   "outputs": [],
   "source": [
    "df_asc['CO2_C'] = df_asc.apply(functions.CO2Concentration, axis=1)\n"
   ]
  },
  {
   "cell_type": "code",
   "execution_count": null,
   "id": "628cdc9f",
   "metadata": {},
   "outputs": [],
   "source": [
    "df_asc['flags'] = df_asc.apply(lambda x: 1 if (x[\"valve_1\"]==1 and x[\"valve_2\"]==0) else 0, axis=1)\n",
    "df_asc['Flowrate'] = functions.flowrate(df_asc.mask(lambda x: x['flags']!=1))\n"
   ]
  },
  {
   "cell_type": "markdown",
   "id": "c4139a3a",
   "metadata": {},
   "source": [
    "## Plots automatically refreshed"
   ]
  },
  {
   "cell_type": "code",
   "execution_count": null,
   "id": "8c46931d",
   "metadata": {},
   "outputs": [],
   "source": [
    "df_asc['Flowrate'] = functions.flowrate(df_asc.mask(lambda x: x['flags']!=1))"
   ]
  },
  {
   "cell_type": "code",
   "execution_count": null,
   "id": "85953ef0",
   "metadata": {},
   "outputs": [],
   "source": []
  },
  {
   "cell_type": "code",
   "execution_count": null,
   "id": "768f6c8e",
   "metadata": {},
   "outputs": [],
   "source": []
  },
  {
   "cell_type": "markdown",
   "id": "7988dc91",
   "metadata": {},
   "source": [
    "# Plots for Floating Phase"
   ]
  },
  {
   "cell_type": "code",
   "execution_count": null,
   "id": "686f5bd4",
   "metadata": {},
   "outputs": [],
   "source": [
    "df_float = pd.read_csv('./data_csv.csv',\n",
    "                        names=['time',\n",
    "                               'P_in', 'P_out',\n",
    "                               'T_in', 'T_out',\n",
    "                               'Hum_in', 'Hum_out',\n",
    "                               'CO2_V1', 'CO2_V2',\n",
    "                               'O3_WE', 'O3_AE',\n",
    "                               'Altitude'],\n",
    "                      header=0,\n",
    "                      usecols=[i for i in range(0,12)])\n",
    "\n",
    "print(df_float)"
   ]
  },
  {
   "cell_type": "markdown",
   "id": "dcbc3102",
   "metadata": {},
   "source": [
    "## Plots refreshed by clicking"
   ]
  },
  {
   "cell_type": "code",
   "execution_count": null,
   "id": "2527f0f9",
   "metadata": {},
   "outputs": [],
   "source": []
  },
  {
   "cell_type": "code",
   "execution_count": null,
   "id": "5193e2f7",
   "metadata": {},
   "outputs": [],
   "source": []
  },
  {
   "cell_type": "code",
   "execution_count": null,
   "id": "0af758cb",
   "metadata": {},
   "outputs": [],
   "source": []
  },
  {
   "cell_type": "code",
   "execution_count": null,
   "id": "1c531ff4",
   "metadata": {},
   "outputs": [],
   "source": [
    "df_float['O3_ppm'] = df_float.apply(functions.O3Concentration, axis=1)\n"
   ]
  },
  {
   "cell_type": "code",
   "execution_count": null,
   "id": "46ecf8d1",
   "metadata": {},
   "outputs": [],
   "source": [
    "df_float['CO2_C'] = df_float.apply(functions.CO2Concentration, axis=1)\n"
   ]
  },
  {
   "cell_type": "markdown",
   "id": "303664db",
   "metadata": {},
   "source": [
    "## Plots automatically refreshed"
   ]
  },
  {
   "cell_type": "code",
   "execution_count": null,
   "id": "ef165ff0",
   "metadata": {},
   "outputs": [],
   "source": [
    "df_float['Flowrate'] = functions.flowrate(df_float.mask(lambda x: x['flags']!=1))"
   ]
  },
  {
   "cell_type": "code",
   "execution_count": null,
   "id": "0bf6d28b",
   "metadata": {},
   "outputs": [],
   "source": []
  }
 ],
 "metadata": {
  "kernelspec": {
   "display_name": "Python 3",
   "language": "python",
   "name": "python3"
  },
  "language_info": {
   "codemirror_mode": {
    "name": "ipython",
    "version": 3
   },
   "file_extension": ".py",
   "mimetype": "text/x-python",
   "name": "python",
   "nbconvert_exporter": "python",
   "pygments_lexer": "ipython3",
   "version": "3.8.8"
  }
 },
 "nbformat": 4,
 "nbformat_minor": 5
}
