{
 "cells": [
  {
   "cell_type": "code",
   "execution_count": 1,
   "id": "f5a2ac3d",
   "metadata": {},
   "outputs": [],
   "source": [
    "%matplotlib notebook"
   ]
  },
  {
   "cell_type": "code",
   "execution_count": 3,
   "id": "37dad8aa",
   "metadata": {},
   "outputs": [],
   "source": [
    "import sys\n",
    "sys.path.insert(0, '../Real-time analysis')\n",
    "\n",
    "import methods\n",
    "import data_line\n",
    "import plot_handler"
   ]
  },
  {
   "cell_type": "markdown",
   "id": "746fb903",
   "metadata": {},
   "source": [
    "# Plots for Acending Phase"
   ]
  },
  {
   "cell_type": "markdown",
   "id": "eba76f43",
   "metadata": {},
   "source": [
    "## Plots refreshed by clicking"
   ]
  },
  {
   "cell_type": "code",
   "execution_count": null,
   "id": "bb80b299",
   "metadata": {},
   "outputs": [],
   "source": []
  },
  {
   "cell_type": "markdown",
   "id": "c4139a3a",
   "metadata": {},
   "source": [
    "## Plots automatically refreshed"
   ]
  },
  {
   "cell_type": "code",
   "execution_count": null,
   "id": "8c46931d",
   "metadata": {},
   "outputs": [],
   "source": []
  },
  {
   "cell_type": "markdown",
   "id": "7988dc91",
   "metadata": {},
   "source": [
    "# Plots for Floating Phase"
   ]
  },
  {
   "cell_type": "markdown",
   "id": "dcbc3102",
   "metadata": {},
   "source": [
    "## Plots refreshed by clicking"
   ]
  },
  {
   "cell_type": "code",
   "execution_count": null,
   "id": "2527f0f9",
   "metadata": {},
   "outputs": [],
   "source": []
  },
  {
   "cell_type": "markdown",
   "id": "303664db",
   "metadata": {},
   "source": [
    "## Plots automatically refreshed"
   ]
  },
  {
   "cell_type": "code",
   "execution_count": null,
   "id": "ef165ff0",
   "metadata": {},
   "outputs": [],
   "source": []
  }
 ],
 "metadata": {
  "kernelspec": {
   "display_name": "Python 3",
   "language": "python",
   "name": "python3"
  },
  "language_info": {
   "codemirror_mode": {
    "name": "ipython",
    "version": 3
   },
   "file_extension": ".py",
   "mimetype": "text/x-python",
   "name": "python",
   "nbconvert_exporter": "python",
   "pygments_lexer": "ipython3",
   "version": "3.8.8"
  }
 },
 "nbformat": 4,
 "nbformat_minor": 5
}
