{
 "cells": [
  {
   "cell_type": "code",
   "execution_count": null,
   "id": "f5a2ac3d",
   "metadata": {},
   "outputs": [],
   "source": [
    "%matplotlib notebook"
   ]
  },
  {
   "cell_type": "code",
   "execution_count": null,
   "id": "37dad8aa",
   "metadata": {},
   "outputs": [],
   "source": [
    "import functions\n",
    "import plot_handler"
   ]
  },
  {
   "cell_type": "code",
   "execution_count": null,
   "id": "3930ff30",
   "metadata": {},
   "outputs": [],
   "source": [
    "import pandas as pd"
   ]
  },
  {
   "cell_type": "markdown",
   "id": "746fb903",
   "metadata": {},
   "source": [
    "# Plots for Acending Phase"
   ]
  },
  {
   "cell_type": "code",
   "execution_count": null,
   "id": "f7f8a581",
   "metadata": {},
   "outputs": [],
   "source": [
    "df_asc = pd.read_csv('./data_csv.csv',\n",
    "                        names = [\n",
    "                                    'time', \n",
    "                                    'P_in', 'P_out',\n",
    "                                    'T_in', 'T_out', \n",
    "                                    'Hum_in', 'Hum_out',\n",
    "                                    'CO2_V1_a', 'CO2_V2_a',\n",
    "                                    'CO2_V1_b', 'CO2_V2_b',\n",
    "                                    'O3_WE_a', 'O3_AE_a',\n",
    "                                    'O3_WE_b', 'O3_AE_b',\n",
    "                                    'Altitude',\n",
    "                                    'flags'\n",
    "                                ],\n",
    "                      header=0,\n",
    "                      usecols=[i for i in range(0,17)])\n",
    "\n",
    "# print(df_asc)"
   ]
  },
  {
   "cell_type": "markdown",
   "id": "eba76f43",
   "metadata": {},
   "source": [
    "## Plots refreshed by clicking"
   ]
  },
  {
   "cell_type": "code",
   "execution_count": null,
   "id": "bb80b299",
   "metadata": {},
   "outputs": [],
   "source": [
    "humidity_plot = plot_handler.humidity_plot(df_asc.loc[:,['time','Hum_in','Hum_out']])"
   ]
  },
  {
   "cell_type": "code",
   "execution_count": null,
   "id": "206ab6f9",
   "metadata": {},
   "outputs": [],
   "source": [
    "temp_out_plot = plot_handler.temp_press_out_plot(df_asc.loc[:,['T_out','P_out','Altitude']])"
   ]
  },
  {
   "cell_type": "code",
   "execution_count": null,
   "id": "467c3c7d",
   "metadata": {
    "scrolled": false
   },
   "outputs": [],
   "source": [
    "temp_in_plot = plot_handler.temp_press_in_plot(df_asc.loc[:,['T_in','P_in','time']])"
   ]
  },
  {
   "cell_type": "code",
   "execution_count": null,
   "id": "956c6308",
   "metadata": {},
   "outputs": [],
   "source": [
    "altitude_plot= plot_handler.altitude_time(df_asc.loc[:,['time','Altitude','T_out']])"
   ]
  },
  {
   "cell_type": "code",
   "execution_count": null,
   "id": "b946ac27",
   "metadata": {},
   "outputs": [],
   "source": [
    "df_asc['O3_ppm_a'] = df_asc['O3_ppm_b'] = None\n",
    "df_asc['O3_ppm_a'] = df_asc.apply(functions.O3ConcentrationA, axis=1)\n",
    "df_asc['O3_ppm_b'] = df_asc.apply(functions.O3ConcentrationB, axis=1)\n",
    "\n",
    "O3_plot = plot_handler.O3_conc(df_asc.loc[:,['O3_ppm_a','O3_ppm_b','Altitude']])"
   ]
  },
  {
   "cell_type": "code",
   "execution_count": null,
   "id": "839e7b73",
   "metadata": {},
   "outputs": [],
   "source": [
    "df_asc['CO2_C_a'] = df_asc['CO2_C_b'] = None\n",
    "df_asc['CO2_C_a'] = df_asc.apply(functions.CO2ConcentrationA, axis=1)\n",
    "df_asc['CO2_C_b'] = df_asc.apply(functions.CO2ConcentrationB, axis=1)\n",
    "\n",
    "CO2_plot = plot_handler.CO2_conc(df_asc.loc[:,['CO2_C_a','CO2_C_b','Altitude']])"
   ]
  },
  {
   "cell_type": "code",
   "execution_count": null,
   "id": "5007fd97",
   "metadata": {},
   "outputs": [],
   "source": [
    "df_asc['flags'] = df_asc.apply(lambda x: 1 if (x[\"valve_1\"]==1 and x[\"valve_2\"]==0) else 0, axis=1)\n",
    "df_asc['Flowrate'] = functions.flowrate(df_asc.mask(lambda x: x['flags']!=1))\n",
    "# TODO: Not ready yet"
   ]
  },
  {
   "cell_type": "markdown",
   "id": "c4139a3a",
   "metadata": {},
   "source": [
    "## Plots automatically refreshed"
   ]
  },
  {
   "cell_type": "code",
   "execution_count": null,
   "id": "8c46931d",
   "metadata": {},
   "outputs": [],
   "source": [
    "df_asc['Flowrate'] = functions.flowrate(df_asc.mask(lambda x: x['flags']!=1))\n",
    "\n",
    "# TODO: Not ready yet"
   ]
  },
  {
   "cell_type": "code",
   "execution_count": null,
   "id": "6e8e19ee",
   "metadata": {},
   "outputs": [],
   "source": [
    "# TODO: Not ready yet"
   ]
  },
  {
   "cell_type": "code",
   "execution_count": null,
   "id": "2e960d6e",
   "metadata": {},
   "outputs": [],
   "source": [
    "# TODO: Not ready yet"
   ]
  },
  {
   "cell_type": "markdown",
   "id": "7988dc91",
   "metadata": {},
   "source": [
    "# Plots for Floating Phase"
   ]
  },
  {
   "cell_type": "code",
   "execution_count": null,
   "id": "1bd9936c",
   "metadata": {},
   "outputs": [],
   "source": [
    "df_float = pd.read_csv('./data_csv.csv',\n",
    "                        names = [\n",
    "                                    'time', \n",
    "                                    'P_in', 'P_out',\n",
    "                                    'T_in', 'T_out', \n",
    "                                    'Hum_in', 'Hum_out',\n",
    "                                    'CO2_V1_a', 'CO2_V2_a',\n",
    "                                    'CO2_V1_b', 'CO2_V2_b',\n",
    "                                    'O3_WE_a', 'O3_AE_a',\n",
    "                                    'O3_WE_b', 'O3_AE_b',\n",
    "                                    'Altitude',\n",
    "                                    'flags'\n",
    "                                ],\n",
    "                      header=0,\n",
    "                      usecols=[i for i in range(0,17)])\n",
    "\n",
    "# print(df_float)"
   ]
  },
  {
   "cell_type": "markdown",
   "id": "dcbc3102",
   "metadata": {},
   "source": [
    "## Plots refreshed by clicking"
   ]
  },
  {
   "cell_type": "code",
   "execution_count": null,
   "id": "a9929071",
   "metadata": {},
   "outputs": [],
   "source": [
    "humidity_plot = plot_handler.humidity_plot(df_float.loc[:,['time','Hum_in','Hum_out']])"
   ]
  },
  {
   "cell_type": "code",
   "execution_count": null,
   "id": "98be2bac",
   "metadata": {},
   "outputs": [],
   "source": [
    "temp_out_plot = plot_handler.temp_press_out_plot(df_float.loc[:,['T_out','P_out','Altitude']])"
   ]
  },
  {
   "cell_type": "code",
   "execution_count": null,
   "id": "0f57a503",
   "metadata": {},
   "outputs": [],
   "source": [
    "temp_in_plot = plot_handler.temp_press_in_plot(df_float.loc[:,['T_in','P_in','time']])"
   ]
  },
  {
   "cell_type": "code",
   "execution_count": null,
   "id": "e8c9c358",
   "metadata": {},
   "outputs": [],
   "source": [
    "altitude_plot= plot_handler.altitude_time(df_float.loc[:,['time','Altitude','T_out']])"
   ]
  },
  {
   "cell_type": "code",
   "execution_count": null,
   "id": "068a2d86",
   "metadata": {},
   "outputs": [],
   "source": [
    "df_float['O3_ppm_a'] = df_float['O3_ppm_b'] = None\n",
    "df_float['O3_ppm_a'] = df_float.apply(functions.O3ConcentrationA, axis=1)\n",
    "df_float['O3_ppm_b'] = df_float.apply(functions.O3ConcentrationB, axis=1)\n",
    "\n",
    "O3_plot = plot_handler.O3_conc(df_float.loc[:,['O3_ppm_a','O3_ppm_b','Altitude']])"
   ]
  },
  {
   "cell_type": "code",
   "execution_count": null,
   "id": "64b1c4ac",
   "metadata": {},
   "outputs": [],
   "source": [
    "df_float['CO2_C_a'] = df_float['CO2_C_b'] = None\n",
    "df_float['CO2_C_a'] = df_float.apply(functions.CO2ConcentrationA, axis=1)\n",
    "df_float['CO2_C_b'] = df_float.apply(functions.CO2ConcentrationB, axis=1)\n",
    "\n",
    "CO2_plot = plot_handler.CO2_conc(df_float.loc[:,['CO2_C_a','CO2_C_b','Altitude']])"
   ]
  },
  {
   "cell_type": "markdown",
   "id": "303664db",
   "metadata": {},
   "source": [
    "## Plots automatically refreshed"
   ]
  },
  {
   "cell_type": "code",
   "execution_count": null,
   "id": "ef165ff0",
   "metadata": {},
   "outputs": [],
   "source": [
    "df_float['Flowrate'] = functions.flowrate(df_float.mask(lambda x: x['flags']!=1))\n",
    "\n",
    "# TODO: Not ready yet"
   ]
  },
  {
   "cell_type": "code",
   "execution_count": null,
   "id": "db4e44c8",
   "metadata": {},
   "outputs": [],
   "source": [
    "# TODO: Not ready yet"
   ]
  }
 ],
 "metadata": {
  "kernelspec": {
   "display_name": "Python 3",
   "language": "python",
   "name": "python3"
  },
  "language_info": {
   "codemirror_mode": {
    "name": "ipython",
    "version": 3
   },
   "file_extension": ".py",
   "mimetype": "text/x-python",
   "name": "python",
   "nbconvert_exporter": "python",
   "pygments_lexer": "ipython3",
   "version": "3.8.8"
  }
 },
 "nbformat": 4,
 "nbformat_minor": 5
}
