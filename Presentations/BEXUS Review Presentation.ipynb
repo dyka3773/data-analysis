{
 "cells": [
  {
   "cell_type": "code",
   "execution_count": null,
   "metadata": {},
   "outputs": [],
   "source": [
    "import pandas as pd\n",
    "from matplotlib import pyplot as plt\n",
    "from matplotlib import cm\n",
    "import numpy as np"
   ]
  },
  {
   "cell_type": "code",
   "execution_count": null,
   "metadata": {},
   "outputs": [],
   "source": [
    "%matplotlib notebook"
   ]
  },
  {
   "cell_type": "markdown",
   "metadata": {},
   "source": [
    "### The 2 csv files"
   ]
  },
  {
   "cell_type": "markdown",
   "metadata": {},
   "source": [
    "2 data files were used to simulate all the parameters of the experiment. The first contains made up data that will be visualized live and regard the first cycles of the experiment. A complete image of the experiment is given in the second file, which is based on real data from BEXUS 24 and data given by our professor Dr Mpalis."
   ]
  },
  {
   "cell_type": "code",
   "execution_count": null,
   "metadata": {},
   "outputs": [],
   "source": [
    "live_df = pd.read_excel('../Real-time analysis/XLSXs/First_Cycles.xlsx',\n",
    "                        names=['time', 'P_in', 'P_out', 'T_in', 'T_out', 'Hum_in',\n",
    "                               'Hum_out', 'CO2_V1', 'CO2_V2', 'O3_WE', 'O3_AE',\n",
    "                               'Altitude','flags'],\n",
    "                      header=0,\n",
    "                      usecols=[i for i in range(0,13)])"
   ]
  },
  {
   "cell_type": "code",
   "execution_count": null,
   "metadata": {
    "scrolled": true
   },
   "outputs": [],
   "source": [
    "live_df"
   ]
  },
  {
   "cell_type": "code",
   "execution_count": null,
   "metadata": {},
   "outputs": [],
   "source": [
    "button_df = pd.read_excel('../Real-time analysis/XLSXs/Sample CSV1.xlsx',\n",
    "                       names=['time', 'P_in', 'P_out', 'T_in', 'T_out', 'Hum_in',\n",
    "                              'Hum_out', 'CO2_V1', 'CO2_V2', 'O3_WE', 'O3_AE',\n",
    "                              'Altitude','flags','flowrate','CO2','O3','CoM','SB_temp'],\n",
    "                       header=0,\n",
    "                       usecols=[i for i in range(0,18)])"
   ]
  },
  {
   "cell_type": "code",
   "execution_count": null,
   "metadata": {},
   "outputs": [],
   "source": [
    "button_df.head(15)"
   ]
  },
  {
   "cell_type": "markdown",
   "metadata": {},
   "source": [
    "### Functions for data handling"
   ]
  },
  {
   "cell_type": "code",
   "execution_count": null,
   "metadata": {},
   "outputs": [],
   "source": [
    "def O3Concentration(df):\n",
    "    O3_WE = df.O3_WE\n",
    "    O3_AE = df.O3_AE\n",
    "    T_in = df.T_in \n",
    "    \n",
    "    a = 1.64\n",
    "    WEe = 37\n",
    "    AEe = 25\n",
    "    b = 1 \n",
    "    WEc = O3_WE - WEe - a*(O3_AE - AEe)\n",
    "    \n",
    "    \"\"\"Fitting & a=a(T_in)\"\"\"\n",
    "    return b * WEc    "
   ]
  },
  {
   "cell_type": "code",
   "execution_count": null,
   "metadata": {},
   "outputs": [],
   "source": [
    "def CO2Concentration(df):\n",
    "    CO2_V1 = df.CO2_V1\n",
    "    CO2_V2 = df.CO2_V2\n",
    "    T_in = df.T_in\n",
    "    \n",
    "    a= 1.52\n",
    "    n= 0.724 # linearization coefficients calculated in tests (using fittings)\n",
    "    Z = 1.33 \n",
    "    S = 0.3604   \n",
    "    Tcal = 19.78\n",
    "    apos = 0.000556\n",
    "    aneg = 0.000438\n",
    "    bpos = 0.124\n",
    "    bneg = 0.219\n",
    "    \n",
    "    \"\"\"\"TOWATCH Fitting Temp\"\"\"\n",
    "    \n",
    "    NR = CO2_V1/(Z*CO2_V2)\n",
    "    \n",
    "    if (T_in>Tcal):\n",
    "        NRcomp = NR*(1+apos*(T_in-Tcal))\n",
    "        Scomp = S + bpos*(T_in-Tcal)/Tcal\n",
    "    else:\n",
    "        NRcomp = NR*(1+aneg*(T_in-Tcal))\n",
    "        Scomp = S + bneg*(T_in-Tcal)/Tcal\n",
    "    \n",
    "    if (1 - NRcomp > 0):\n",
    "        result = ((-1/a)*np.log(1-(1-NRcomp)/Scomp)) **(1/n)\n",
    "    else:\n",
    "        result = -((-1/a)*np.log(1-(1-NRcomp)*(-1/Scomp))) **(1/n)\n",
    "    return result"
   ]
  },
  {
   "cell_type": "code",
   "execution_count": null,
   "metadata": {},
   "outputs": [],
   "source": [
    "V_in = 2\n",
    "\n",
    "def flowrate(df):\n",
    "    flow_rate=[]\n",
    "    j=0\n",
    "    \n",
    "    for k in df['time']:\n",
    "        try:\n",
    "            dt = df.loc[j+1, 'time'] - k\n",
    "            \n",
    "            dpin=df.loc[j+1, 'P_in'] - df.loc[j, 'P_in']\n",
    "            \n",
    "            #dtin=df.loc[j+1, 'T_in'] - df.loc[j, 'T_in']\n",
    "            \n",
    "            dtin=0\n",
    "            pout=(df.loc[j+1, 'P_out'] + df.loc[j, 'P_out'])/2\n",
    "            pin=(df.loc[j+1, 'P_in'] + df.loc[j, 'P_in'])/2\n",
    "            \n",
    "            tout=273+(df.loc[j+1, 'T_out'] + df.loc[j, 'T_out'])/2\n",
    "            tin=273+(df.loc[j+1, 'T_in'] + df.loc[j, 'T_in'])/2\n",
    "            \n",
    "            flow=(V_in/pout)*(tout/tin)*(dpin/dt-(pin/tin)*dtin/dt)*60\n",
    "            \n",
    "            flow_rate.append(flow if flow>0 else None)\n",
    "            \n",
    "            j+=1\n",
    "        except:\n",
    "            continue\n",
    "        \n",
    "    return pd.Series(flow_rate, dtype='float64')"
   ]
  },
  {
   "cell_type": "markdown",
   "metadata": {},
   "source": [
    "### Adding extra columns in dataframes"
   ]
  },
  {
   "cell_type": "code",
   "execution_count": null,
   "metadata": {},
   "outputs": [],
   "source": [
    "live_df['Flowrate'] = flowrate(live_df.mask(lambda x: x['flags']!=1))\n",
    "\n",
    "live_df"
   ]
  },
  {
   "cell_type": "markdown",
   "metadata": {},
   "source": [
    "## Plot handlers"
   ]
  },
  {
   "cell_type": "code",
   "execution_count": null,
   "metadata": {},
   "outputs": [],
   "source": [
    "def flow_rate_plot(df):\n",
    "    plt.style.use('seaborn')\n",
    "    \n",
    "    flow_rate_figure, ax1 = plt.subplots()\n",
    "    \n",
    "    \n",
    "    ax1.scatter(df['time'], df['Flowrate'], s=20, \n",
    "                marker= '.', label = \"ECO-WISE 2021\")\n",
    "    \n",
    "    ax1.set_title(\"Pump's flowrate\")\n",
    "    ax1.set_xlabel(\"Time (sec)\")\n",
    "    ax1.set_ylabel(\"Flowrate (L/min)\")\n",
    "    ax1.legend()\n",
    "    plt.tight_layout()\n",
    "    \n",
    "    return flow_rate_figure"
   ]
  },
  {
   "cell_type": "code",
   "execution_count": null,
   "metadata": {},
   "outputs": [],
   "source": [
    "def temp_press_out_plot(df):\n",
    "    \n",
    "    temp_press_out_figure, ax3 = plt.subplots()\n",
    "    \n",
    "    plt.style.use('seaborn')\n",
    "    \n",
    "    colors=df['T_out']\n",
    "    \n",
    "    plot = ax3.scatter(df['P_out'], df['Altitude'], s=20, c=colors, cmap='jet', \n",
    "                  label = \"ECO-WISE 2021\",marker= '.')\n",
    "    temp_press_out_figure.colorbar(plot, ax=ax3,label = 'Temperature out (°C)')\n",
    "    \n",
    "    \n",
    "    ax3.set_title(\"Environmental variables\")\n",
    "    ax3.set_xlabel(\"Pressure (mbar)\")\n",
    "    ax3.set_ylabel(\"Altitude (m)\")\n",
    "    ax3.legend()\n",
    "    plt.tight_layout()\n",
    "    \n",
    "    #ERRORS\n",
    "    \n",
    "    p = 1/100 #Error margin of  Pressure\n",
    "    \n",
    "    y_errormin = p*df['P_out']\n",
    "    y_errormax = p*df['P_out']\n",
    "    y_error = [y_errormin,y_errormax]\n",
    "    \n",
    "    x_error= 0\n",
    "    \n",
    "    ax3.errorbar(df['P_out'], \n",
    "                 df['Altitude'], \n",
    "                 yerr = y_error,\n",
    "                 xerr = x_error, \n",
    "                 fmt=' ',\n",
    "                 elinewidth=1,\n",
    "                 capsize=5,\n",
    "                 errorevery=100, \n",
    "                 capthick=1)  #ERROR EVERY to be shown in graph\n",
    "\n",
    "\n",
    "    return temp_press_out_figure"
   ]
  },
  {
   "cell_type": "code",
   "execution_count": null,
   "metadata": {},
   "outputs": [],
   "source": [
    "def humidity_plot(df):\n",
    "    humidity_figure, (hum_in,hum_out) = plt.subplots(nrows=2, ncols=1, sharex=True)\n",
    "    \n",
    "    #hum_in.grid(linewidth= 0.5, linestyle= '--', color= '#262626', alpha= 0.2)\n",
    "    #hum_out.grid(linewidth= 0.5, linestyle= '--', color= '#262626', alpha= 0.2)\n",
    "    #plt.rcParams['axes.facecolor'] = '#ccccff'\n",
    "    plt.style.use('seaborn')\n",
    "    \n",
    "    hum_in.plot(df['time'], df['Hum_in'], label = \"Hum in (ECO-WISE 2021)\")\n",
    "    hum_out.plot(df['time'], df['Hum_out'], label = \"Hum out (ECO-WISE 2021)\")\n",
    "    \n",
    "    hum_in.set_title(\"Humidity\")\n",
    "    hum_in.set_ylabel(\"Humidity Inside (%)\")  \n",
    "    hum_in.legend()\n",
    "    \n",
    "    hum_out.set_xlabel(\"Time (min)\")\n",
    "    hum_out.set_ylabel(\"Humidity Outside (%)\")   \n",
    "    hum_out.legend()\n",
    "    \n",
    "    plt.tight_layout()\n",
    "    \n",
    "    return humidity_figure"
   ]
  },
  {
   "cell_type": "code",
   "execution_count": null,
   "metadata": {},
   "outputs": [],
   "source": [
    "def O3_conc(df):\n",
    "    \n",
    "    O3_conc_figure, ax5 = plt.subplots()\n",
    "    \n",
    "    plt.style.use('seaborn')\n",
    "    ax5.scatter(df['O3'], df['Altitude'], s=20,marker= '.', \n",
    "                  label = \"ECO-WISE 2021\")\n",
    "    \n",
    "    ax5.set_title(\"O3 concentration\")\n",
    "    ax5.set_xlabel(\"O3 (ppb)\")\n",
    "    ax5.set_ylabel(\"Altitude (m)\")\n",
    "    ax5.legend()\n",
    "    plt.tight_layout()\n",
    "\n",
    "    return O3_conc_figure"
   ]
  },
  {
   "cell_type": "code",
   "execution_count": null,
   "metadata": {},
   "outputs": [],
   "source": [
    "def CO2_conc(df):\n",
    "    \n",
    "    CO2_conc_figure, ax6 = plt.subplots()\n",
    "    \n",
    "    plt.style.use('seaborn')\n",
    "    ax6.scatter(df['CO2'], df['Altitude'], s=20, \n",
    "                marker= '.', label = \"ECO-WISE 2021\")\n",
    "    \n",
    "    ax6.set_title(\"CO2 concentration\")\n",
    "    ax6.set_xlabel(\"CO2 (v/v %)\")\n",
    "    ax6.set_ylabel(\"Altitude (m)\")\n",
    "    ax6.legend()\n",
    "    plt.tight_layout()\n",
    "\n",
    "    return CO2_conc_figure"
   ]
  },
  {
   "cell_type": "code",
   "execution_count": null,
   "metadata": {},
   "outputs": [],
   "source": [
    "def altitude_time(df):\n",
    "    \n",
    "    altitude_time_figure, ax7 = plt.subplots()\n",
    "    \n",
    "    colors=df['T_out']\n",
    "    \n",
    "    plt.style.use('seaborn')\n",
    "    plot = ax7.scatter(df['time'], df['Altitude'], s=20, c=colors, cmap='jet', \n",
    "                marker= '.', label = \"ECO-WISE 2021\")\n",
    "    \n",
    "    altitude_time_figure.colorbar(plot, ax=ax7,label = 'Temperature out (°C)')\n",
    "    \n",
    "    ax7.set_title(\"Balloon altitude (Altitude Over Time)\")\n",
    "    ax7.set_xlabel(\"Time (min)\")\n",
    "    ax7.set_ylabel(\"Altitude (m)\")\n",
    "    ax7.legend()\n",
    "    plt.tight_layout()\n",
    "    \n",
    "    return altitude_time_figure"
   ]
  },
  {
   "cell_type": "code",
   "execution_count": null,
   "metadata": {},
   "outputs": [],
   "source": [
    "def temp_press_in_plot(df):\n",
    "    \n",
    "    temp_press_in_figure, ax8 = plt.subplots()\n",
    "    \n",
    "    colors=df['T_in']\n",
    "    \n",
    "    plt.style.use('seaborn')\n",
    "    plot = ax8.scatter(df['time'],df['P_in'], s=20, c=colors, cmap='jet', \n",
    "                marker= '.', label = \"ECO-WISE 2021\")\n",
    "    \n",
    "    temp_press_in_figure.colorbar(plot, ax=ax8,label = 'Temperature in (°C)')\n",
    "    \n",
    "    ax8.set_title(\"Sensor box variables\")\n",
    "    ax8.set_xlabel(\"Time (sec)\")\n",
    "    ax8.set_ylabel(\"Pressure (mbar)\")\n",
    "    ax8.legend()\n",
    "    plt.tight_layout()\n",
    "\n",
    "    return temp_press_in_figure"
   ]
  },
  {
   "cell_type": "markdown",
   "metadata": {},
   "source": [
    "## Start Plotting"
   ]
  },
  {
   "cell_type": "markdown",
   "metadata": {},
   "source": [
    "### Live Plots"
   ]
  },
  {
   "cell_type": "code",
   "execution_count": null,
   "metadata": {
    "scrolled": false
   },
   "outputs": [],
   "source": [
    "# %matplotlib notebook\n",
    "plt.style.use('seaborn')\n",
    "from matplotlib.animation import FuncAnimation\n",
    "from mpl_toolkits.axes_grid1 import make_axes_locatable\n",
    "\n",
    "def sensorbox(i):\n",
    "    df = pd.read_csv('./data.csv', usecols=[3,0,1])\n",
    "    \n",
    "    colors = df['T_in']\n",
    "    \n",
    "    ax8.cla()\n",
    "    plot = ax8.scatter(df['time'], df['P_in'], s=30, c=colors, cmap='jet', \n",
    "                marker= '.', label = \"ECO-WISE 2021\")\n",
    "    ax8.set_title(\"Sensor box variables\")\n",
    "    ax8.set_xlabel(\"Time (sec)\")\n",
    "    ax8.set_ylabel(\"Pressure (mbar)\")\n",
    "    ax8.legend()\n",
    "    \n",
    "    cax.cla()\n",
    "    fig.colorbar(plot, ax=ax8,cax=cax)\n",
    "    \n",
    "fig = plt.figure()\n",
    "ax8 = fig.add_subplot(111)\n",
    "\n",
    "div = make_axes_locatable(ax8)\n",
    "cax = div.append_axes('right', '5%', '5%')\n",
    "\n",
    "ani = FuncAnimation(fig, sensorbox, interval=1000)\n"
   ]
  },
  {
   "cell_type": "markdown",
   "metadata": {},
   "source": [
    "A live graph of the sensor box variables (Pressure and Temperature over Time) is a useful way of confirming that the sensors are operating smoothly. There is a predicted pattern of pressure over time knowing the sensor box’s different stages. (It should be mentioned that these presented measurements are the mean of two different sets of sensors placed in different locations inside the box to increase the validity and accuracy of the measurements)"
   ]
  },
  {
   "cell_type": "code",
   "execution_count": null,
   "metadata": {},
   "outputs": [],
   "source": [
    "def humidities(i):\n",
    "    df = pd.read_csv('./data.csv', usecols=[0,5,6])\n",
    "    \n",
    "    hum_in.cla()\n",
    "    hum_out.cla()\n",
    "    \n",
    "    hum_in.plot(df['time'], df['Hum_in'], label = \"Hum in (ECO-WISE 2021)\")\n",
    "    hum_out.plot(df['time'], df['Hum_out'], label = \"Hum out (ECO-WISE 2021)\")\n",
    "    \n",
    "    hum_in.set_title(\"Humidity\")\n",
    "    hum_in.set_ylabel(\"Humidity Inside (%)\")  \n",
    "    hum_in.legend()\n",
    "    \n",
    "    hum_out.set_xlabel(\"Time (min)\")\n",
    "    hum_out.set_ylabel(\"Humidity Outside (%)\")   \n",
    "    hum_out.legend()\n",
    "\n",
    "humidity_figure, (hum_in,hum_out) = plt.subplots(nrows=2, ncols=1, sharex=True)\n",
    "\n",
    "ani = FuncAnimation(humidity_figure, humidities, interval=1000)"
   ]
  },
  {
   "cell_type": "code",
   "execution_count": null,
   "metadata": {},
   "outputs": [],
   "source": [
    "def flowplot(i):\n",
    "    df = pd.read_csv('./data.csv', usecols=[0,1,2,3,4,12])\n",
    "    df['Flowrate'] = flowrate(df.mask(lambda x: x['flags']!=1))\n",
    "\n",
    "    # print(df)\n",
    "    ax1.cla()\n",
    "    \n",
    "    ax1.scatter(df['time'], df['Flowrate'], s=20, \n",
    "                marker= '.', label = \"ECO-WISE 2021\")\n",
    "    \n",
    "    ax1.set_title(\"Pump's flowrate\")\n",
    "    ax1.set_xlabel(\"Time (sec)\")\n",
    "    ax1.set_ylabel(\"Flowrate (L/min)\")\n",
    "    ax1.legend()\n",
    "\n",
    "flow_rate_figure, ax1 = plt.subplots()\n",
    "\n",
    "ani = FuncAnimation(flow_rate_figure, flowplot, interval=1000)"
   ]
  },
  {
   "cell_type": "markdown",
   "metadata": {},
   "source": [
    "The pump flowrate is calculated using a theoretical model (Outside and inside temperature and pressure need to be measured) the validity of which has not been verified yet. During the process of calibrating the sensors a flowrate-meter will be used, and its measurements will be compared to the predicted values given by this model."
   ]
  },
  {
   "cell_type": "markdown",
   "metadata": {},
   "source": [
    "### Plots renewed using buttons"
   ]
  },
  {
   "cell_type": "code",
   "execution_count": null,
   "metadata": {
    "scrolled": true
   },
   "outputs": [],
   "source": [
    "temp_out_plot = temp_press_out_plot(button_df.loc[:,['T_out','P_out','Altitude']])"
   ]
  },
  {
   "cell_type": "markdown",
   "metadata": {},
   "source": [
    "Outside temperature and pressure over altitude are measured in order to calculate the flowrate of the air pump. Additionally, it was determined that graphing this data using a color bar to indicate temperature is an aesthetically pleasing and compact way to present some important information."
   ]
  },
  {
   "cell_type": "code",
   "execution_count": null,
   "metadata": {
    "scrolled": true
   },
   "outputs": [],
   "source": [
    "altitude_plot= altitude_time(button_df.loc[:,['time','Altitude','T_out']])"
   ]
  },
  {
   "cell_type": "markdown",
   "metadata": {},
   "source": [
    "The Balloon’s Altitude is measured using both a GPS and an Altimeter. Due to the experiment’s requirements, the altimeter’s measurements are used (Increased accuracy. In fact, as with all other sensors, two altimeters are used). Again plotting the temperature on the graph is a compact way to add a third variable in a 2D graph."
   ]
  },
  {
   "cell_type": "code",
   "execution_count": null,
   "metadata": {},
   "outputs": [],
   "source": [
    "O3_plot = O3_conc(button_df.loc[:,['O3','Altitude']])"
   ]
  },
  {
   "cell_type": "code",
   "execution_count": null,
   "metadata": {},
   "outputs": [],
   "source": [
    "CO2_plot = CO2_conc(button_df.loc[:,['CO2','Altitude']])"
   ]
  },
  {
   "cell_type": "markdown",
   "metadata": {},
   "source": [
    "The concentration of CO2 and Ο3 in the atmosphere (over altitude) is the primary target of this experiment so it is imperative that these calculated values are presented in a real-time graph "
   ]
  }
 ],
 "metadata": {
  "kernelspec": {
   "display_name": "Python 3",
   "language": "python",
   "name": "python3"
  },
  "language_info": {
   "codemirror_mode": {
    "name": "ipython",
    "version": 3
   },
   "file_extension": ".py",
   "mimetype": "text/x-python",
   "name": "python",
   "nbconvert_exporter": "python",
   "pygments_lexer": "ipython3",
   "version": "3.8.8"
  }
 },
 "nbformat": 4,
 "nbformat_minor": 4
}
